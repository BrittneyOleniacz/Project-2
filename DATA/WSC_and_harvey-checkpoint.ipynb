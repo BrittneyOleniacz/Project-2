{
 "cells": [
  {
   "cell_type": "code",
   "execution_count": 1,
   "metadata": {},
   "outputs": [],
   "source": [
    "import pandas as pd\n",
    "import numpy as np\n",
    "\n",
    "\n",
    "\n",
    "#files to Load\n",
    "full_pseudoscorpion_classification = \"harvey_taxonomy.csv\"\n",
    "fossildata_from_WSC2020 = \"WSC2020_pseudoscorpiones.csv\"\n",
    "\n",
    "\n",
    "#Read files\n",
    "all_taxa_data = pd.read_csv(full_pseudoscorpion_classification)\n",
    "WSC_data = pd.read_csv(fossildata_from_WSC2020)\n"
   ]
  },
  {
   "cell_type": "code",
   "execution_count": 31,
   "metadata": {},
   "outputs": [
    {
     "data": {
      "text/plain": [
       "count                         907\n",
       "unique                         26\n",
       "top        Chernetidae Menge 1855\n",
       "freq                          337\n",
       "Name: Family, dtype: object"
      ]
     },
     "execution_count": 31,
     "metadata": {},
     "output_type": "execute_result"
    }
   ],
   "source": [
    "all_taxa_data[\"Family\"].describe()"
   ]
  },
  {
   "cell_type": "code",
   "execution_count": 26,
   "metadata": {},
   "outputs": [
    {
     "data": {
      "text/plain": [
       "count              83\n",
       "unique             31\n",
       "top       Chthoniidae\n",
       "freq                9\n",
       "Name: Family, dtype: object"
      ]
     },
     "execution_count": 26,
     "metadata": {},
     "output_type": "execute_result"
    }
   ],
   "source": [
    "WSC_data[\"Family\"].describe()"
   ]
  },
  {
   "cell_type": "code",
   "execution_count": 35,
   "metadata": {},
   "outputs": [
    {
     "data": {
      "text/plain": [
       "array(['Dracochelidea', 'Chthonoidea', 'Chthoniidae', 'Lechytidae',\n",
       "       'Pseudotyrannochthoniidae', nan, 'Feaellidae', 'Pseudogarypidae',\n",
       "       'Bochicidae', 'Gymnobisiidae', 'Hyidae', 'Ideoroncidae',\n",
       "       'Neobisiidae', 'Parahyidae', 'Syarinidae', 'Garypidae',\n",
       "       'Geogarypidae', 'Hesperolpiidae', 'Methidae', 'Olpiidae',\n",
       "       'Garypinidae', 'Larcidae', 'Cheiriidae', 'Pseudochiridiidae',\n",
       "       'Sternophoridae', 'Atemnidae', 'Cheliferidae', 'Electrochelifer',\n",
       "       'Chernetidae', 'Withiidae', 'NOMUM DUBIUM', 'NOMUM NUDUM'],\n",
       "      dtype=object)"
      ]
     },
     "execution_count": 35,
     "metadata": {},
     "output_type": "execute_result"
    }
   ],
   "source": [
    "WSC_data[\"Family\"].unique()"
   ]
  },
  {
   "cell_type": "code",
   "execution_count": null,
   "metadata": {},
   "outputs": [],
   "source": []
  },
  {
   "cell_type": "code",
   "execution_count": 33,
   "metadata": {},
   "outputs": [
    {
     "data": {
      "text/plain": [
       "count              7\n",
       "unique             7\n",
       "top       Feaellidae\n",
       "freq               1\n",
       "Name: Family, dtype: object"
      ]
     },
     "execution_count": 33,
     "metadata": {},
     "output_type": "execute_result"
    }
   ],
   "source": [
    "cretaceous = WSC_data.loc[WSC_data [\"Type Age range\"] == \"Cretaceous\"]\n",
    "cretaceous[\"Family\"].describe()"
   ]
  },
  {
   "cell_type": "code",
   "execution_count": 34,
   "metadata": {},
   "outputs": [
    {
     "data": {
      "text/plain": [
       "array(['Chthoniidae', 'Feaellidae', 'Garypinidae', 'Cheiriidae',\n",
       "       'Cheliferidae', 'Electrochelifer', 'Chernetidae'], dtype=object)"
      ]
     },
     "execution_count": 34,
     "metadata": {},
     "output_type": "execute_result"
    }
   ],
   "source": [
    "cretaceous[\"Family\"].unique()"
   ]
  },
  {
   "cell_type": "code",
   "execution_count": 38,
   "metadata": {},
   "outputs": [
    {
     "data": {
      "text/plain": [
       "array(['Burmese', 'Archingeay', 'Canadian'], dtype=object)"
      ]
     },
     "execution_count": 38,
     "metadata": {},
     "output_type": "execute_result"
    }
   ],
   "source": [
    "cretaceous[\"Type Locality\"].unique()"
   ]
  },
  {
   "cell_type": "code",
   "execution_count": 37,
   "metadata": {},
   "outputs": [
    {
     "data": {
      "text/plain": [
       "array(['Gilboa', 'Bitterfeld', 'Baltic', 'Dominican', 'Chiapas',\n",
       "       'Madagascar', 'Burmese', nan, 'Baltic/Rovno', 'Colombian',\n",
       "       'Archingeay', 'Chinese', 'Canadian', 'East Africa', 'Solnhofen'],\n",
       "      dtype=object)"
      ]
     },
     "execution_count": 37,
     "metadata": {},
     "output_type": "execute_result"
    }
   ],
   "source": [
    "WSC_data[\"Type Locality\"].unique()"
   ]
  },
  {
   "cell_type": "code",
   "execution_count": null,
   "metadata": {},
   "outputs": [],
   "source": []
  }
 ],
 "metadata": {
  "kernelspec": {
   "display_name": "Python 3",
   "language": "python",
   "name": "python3"
  },
  "language_info": {
   "codemirror_mode": {
    "name": "ipython",
    "version": 3
   },
   "file_extension": ".py",
   "mimetype": "text/x-python",
   "name": "python",
   "nbconvert_exporter": "python",
   "pygments_lexer": "ipython3",
   "version": "3.6.10"
  }
 },
 "nbformat": 4,
 "nbformat_minor": 4
}