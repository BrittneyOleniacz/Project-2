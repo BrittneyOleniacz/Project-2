{
 "cells": [
  {
   "cell_type": "code",
   "execution_count": null,
   "metadata": {},
   "outputs": [],
   "source": [
    "import pandas as pd\n",
    "import numpy as np"
   ]
  },
  {
   "cell_type": "markdown",
   "metadata": {},
   "source": [
    "## Pseudoscorpions of the World\n",
    "Harvey, M.S. (2013). Pseudoscorpions of the World, version 3.0. Western Australian Museum, Perth. http://www.museum.wa.gov.au/catalogues/pseudoscorpions"
   ]
  },
  {
   "cell_type": "code",
   "execution_count": null,
   "metadata": {},
   "outputs": [],
   "source": [
    "full_pseudoscorpion_classification = \"pseudoscorp_full_classification.csv\"\n",
    "extant_data = pd.read_csv(full_pseudoscorpion_classification)\n",
    "extant_data"
   ]
  },
  {
   "cell_type": "markdown",
   "metadata": {},
   "source": [
    "##### extant_data cleaning....\n",
    "1. Need to seperate the Authors and publication year of Suborder, Superfamily, family, tribe, and genera. \n",
    "2. drop NaN? Doesn't that get \"rid\" of the entire row? If so, no go. \n"
   ]
  },
  {
   "cell_type": "markdown",
   "metadata": {},
   "source": [
    "## World Spider Catalog\n",
    "Dunlop, J. A., Penney, D. & Jekel, D. 2020. A summary list of fossil spiders and their relatives. In World Spider\n",
    "Catalog. Natural History Museum Bern, online at http://wsc.nmbe.ch, version 20.5, accessed on {4 October 2020}."
   ]
  },
  {
   "cell_type": "code",
   "execution_count": null,
   "metadata": {},
   "outputs": [],
   "source": [
    "fossildata_from_WSC2020 = \"WSC_data/WSC2020_pseudoscorpiones.csv\"\n",
    "WSC_data = pd.read_csv(fossildata_from_WSC2020)\n",
    "WSC_data"
   ]
  },
  {
   "cell_type": "markdown",
   "metadata": {},
   "source": [
    "##### WSC cleaning......\n",
    "1. seperate the range into range_start and range_end. \n",
    "2. seperate Author and pub. yr. \n",
    "3. description authors vs. subsequent authors\n",
    "4. seperate subgenera and genera"
   ]
  },
  {
   "cell_type": "markdown",
   "metadata": {},
   "source": [
    "## PBDB Data\n"
   ]
  },
  {
   "cell_type": "code",
   "execution_count": null,
   "metadata": {},
   "outputs": [],
   "source": [
    "PBDB_fossil_pscorps = \"PBDB_data/PBDBreview_pseudoscorps.csv\"\n",
    "DF_pscorps_fossils = pd.read_csv(PBDB_fossil_pscorps)\n",
    "DF_pscorps_fossils"
   ]
  },
  {
   "cell_type": "code",
   "execution_count": null,
   "metadata": {},
   "outputs": [],
   "source": [
    "PBDB_invalid_taxa = \"PBDB_data/invalid_taxa.csv\"\n",
    "DF_invalid_taxa = pd.read_csv(PBDB_invalid_taxa)\n",
    "DF_invalid_taxa"
   ]
  },
  {
   "cell_type": "code",
   "execution_count": null,
   "metadata": {},
   "outputs": [],
   "source": [
    "PBDB_references = \"PBDB_data/references.csv\"\n",
    "DF_references = pd.read_csv(PBDB_references)\n",
    "DF_references"
   ]
  },
  {
   "cell_type": "code",
   "execution_count": null,
   "metadata": {},
   "outputs": [],
   "source": [
    "PBDB_valid_taxa = \"PBDB_data/valid_taxa.csv\"\n",
    "DF_valid_taxa = pd.read_csv(PBDB_valid_taxa)\n",
    "DF_valid_taxa"
   ]
  },
  {
   "cell_type": "code",
   "execution_count": null,
   "metadata": {},
   "outputs": [],
   "source": [
    "PBDB_opinions = \"PBDB_data/opinions.csv\"\n",
    "DF_opinions = pd.read_csv(PBDB_opinions)\n",
    "DF_opinions"
   ]
  }
 ],
 "metadata": {
  "kernelspec": {
   "display_name": "Python 3",
   "language": "python",
   "name": "python3"
  },
  "language_info": {
   "codemirror_mode": {
    "name": "ipython",
    "version": 3
   },
   "file_extension": ".py",
   "mimetype": "text/x-python",
   "name": "python",
   "nbconvert_exporter": "python",
   "pygments_lexer": "ipython3",
   "version": "3.8.3"
  }
 },
 "nbformat": 4,
 "nbformat_minor": 4
}
